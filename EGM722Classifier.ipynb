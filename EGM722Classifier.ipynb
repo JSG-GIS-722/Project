{
 "cells": [
  {
   "cell_type": "code",
   "execution_count": null,
   "metadata": {},
   "outputs": [],
   "source": [
    "from arcgis.learn import *\n",
    "from arcgis.raster import ImageryLayer\n",
    "from arcgis.gis import GIS\n",
    "from arcpy import *\n",
    "#from arcpy.ia import *\n",
    "#from arcpy.sa import *\n",
    "\n",
    "#import arcpy\n",
    "import pandas as pd\n",
    "import requests\n",
    "\n",
    "SourceTile = r\"U:\\Project\\027-15_2018a_4BAND.TIF\"\n",
    "arcpy.CheckOutExtension(\"ImageAnalyst\")"
   ]
  },
  {
   "cell_type": "markdown",
   "metadata": {},
   "source": [
    "The aim of this project was to identify areas of mixed land cover on orthophotography 4-band raster data (RGB + near infrared) using new-generation deep learning implementations.\n",
    "Deep learning is a type of machine learning with several layers of nonlinear processing which allow users to identify patterns, objects, and pixels through models. It is a significant improvement on previous Machine Learning systems since it does not require vast amounts of training samples produced by expert users. Several ArcGis Pro Deep Learning models support sparse training data with remarkable success. In this project, training data for our models was gathered in intervals of less than 30.\n",
    "\n",
    "There are several different algorithms and deep learning models that can be employed for image classification.  This project is a tool to carry out image classification of land cover by: preprocessing target data, exporting training samples, training and evaluating deep learning models, and displaying results so a human operator can then choose the best fitting model.\n",
    "\n",
    "The first stage of the project consists on preprocessing our raster data.  This is to ensure images will be processed successfully with DL models at a later stage."
   ]
  },
  {
   "cell_type": "markdown",
   "metadata": {},
   "source": [
    "# 1 - Preprocessing\n",
    "\n",
    "The first step in our analysis is to convert our target file into a raster object.  Next, we will preprocess our image to enhance.  This will gurantee that the classification process produces the best possible results."
   ]
  },
  {
   "cell_type": "code",
   "execution_count": null,
   "metadata": {},
   "outputs": [],
   "source": [
    "Source_Raster = Raster(SourceTile)\n",
    "Source_Raster"
   ]
  },
  {
   "cell_type": "markdown",
   "metadata": {},
   "source": [
    "## Sharpening\n",
    "\n",
    "The first preprocessing step is to smooth the target image using the convolution function, which enhances an image with a sharpening 5 X 5 filter."
   ]
  },
  {
   "cell_type": "code",
   "execution_count": null,
   "metadata": {},
   "outputs": [],
   "source": [
    "# 14 identifies the 5x5 filter required \n",
    "\n",
    "Smooth_Raster = arcpy.sa.Convolution(Source_Raster, 14)\n",
    "Source_Raster.save()\n",
    "Source_Raster"
   ]
  },
  {
   "cell_type": "markdown",
   "metadata": {},
   "source": [
    "## Stretching\n",
    "The next preprocessing stage consists on enhancing an image by changing properties such as brightness, contrast, and gamma. In this case, we use a Sigmoid stretch as it highlights moderate pixel values while maintaining sufficient contrast in the perimeter. The function used applies a sigmoidal function (an S-shaped curve)."
   ]
  },
  {
   "cell_type": "code",
   "execution_count": null,
   "metadata": {},
   "outputs": [],
   "source": [
    "# \"3\" indicates the sigmoid strength level. The minimum value is 0, and the maximum value is 6.\n",
    "\n",
    "Stretched_Raster = arcpy.sa.Stretch(Source_Raster, \"Sigmoid\", 0, None, None, None, True, None, None, None, None, 3)\n",
    "Stretched_Raster"
   ]
  },
  {
   "cell_type": "markdown",
   "metadata": {},
   "source": [
    "## Resampling\n",
    "\n",
    "Resampling changes the spatial resolution of a raster dataset and sets rules for aggregating or interpolating values across the new pixel size.  In this case, we will resample the image according to our datase spatial resolution (40 cm) and we will use the \"Nearest\" resampling technique, which is suitable for land cover and discrete data."
   ]
  },
  {
   "cell_type": "code",
   "execution_count": null,
   "metadata": {},
   "outputs": [],
   "source": [
    "# The new resampled file will be saved in ProjectData.\n",
    "\n",
    "Str_Output_Raster = r\"U:\\ProjectData\\resampled_output.tif\"\n",
    "arcpy.management.Resample(Stretched_Raster, Str_Output_Raster, 0.4, \"Nearest\")\n",
    "Resampled_Raster = Raster(Str_Output_Raster)"
   ]
  },
  {
   "cell_type": "code",
   "execution_count": null,
   "metadata": {},
   "outputs": [],
   "source": []
  },
  {
   "cell_type": "code",
   "execution_count": null,
   "metadata": {},
   "outputs": [],
   "source": []
  },
  {
   "cell_type": "code",
   "execution_count": null,
   "metadata": {},
   "outputs": [],
   "source": []
  },
  {
   "cell_type": "code",
   "execution_count": null,
   "metadata": {},
   "outputs": [],
   "source": []
  }
 ],
 "metadata": {
  "kernelspec": {
   "display_name": "ArcGISPro",
   "language": "Python",
   "name": "python3"
  },
  "language_info": {
   "file_extension": ".py",
   "name": "python",
   "version": "3"
  }
 },
 "nbformat": 4,
 "nbformat_minor": 2
}
